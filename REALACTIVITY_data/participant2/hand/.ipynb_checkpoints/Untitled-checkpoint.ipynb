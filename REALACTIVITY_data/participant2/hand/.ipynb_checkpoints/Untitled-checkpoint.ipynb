{
 "cells": [
  {
   "cell_type": "code",
   "execution_count": 1,
   "metadata": {},
   "outputs": [],
   "source": [
    "import csv\n",
    "import pandas as pd\n",
    "import datetime;\n",
    "import time;"
   ]
  },
  {
   "cell_type": "code",
   "execution_count": 2,
   "metadata": {},
   "outputs": [],
   "source": [
    "from datetime import datetime"
   ]
  },
  {
   "cell_type": "code",
   "execution_count": 4,
   "metadata": {},
   "outputs": [
    {
     "name": "stderr",
     "output_type": "stream",
     "text": [
      "/home/grads/d/doddapanenipc/anaconda3/lib/python3.7/site-packages/IPython/core/interactiveshell.py:2785: DtypeWarning: Columns (3,7,20,23,25) have mixed types. Specify dtype option on import or set low_memory=False.\n",
      "  interactivity=interactivity, compiler=compiler, result=result)\n"
     ]
    }
   ],
   "source": [
    "data = pd.read_csv('session1.csv');"
   ]
  },
  {
   "cell_type": "code",
   "execution_count": 5,
   "metadata": {},
   "outputs": [],
   "source": [
    "data['Timestamp'] = pd.to_datetime(data['Timestamp'])\n",
    "data['time'] = [d.time() for d in data['Timestamp']]\n",
    "#data['time'] = pd.to_datetime(data['time']);"
   ]
  },
  {
   "cell_type": "code",
   "execution_count": 6,
   "metadata": {},
   "outputs": [],
   "source": [
    "participant = 'p2';\n",
    "location = 'hand';"
   ]
  },
  {
   "cell_type": "code",
   "execution_count": 8,
   "metadata": {},
   "outputs": [
    {
     "name": "stdout",
     "output_type": "stream",
     "text": [
      "          context start_time  end_time\n",
      "0          eating   19:05:00  19:07:30\n",
      "1        watch_tv   18:19:00  18:22:00\n",
      "2        sleeping   18:23:00  18:26:00\n",
      "3         writing   18:28:45  18:32:00\n",
      "4         cooking   18:32:30  18:35:00\n",
      "5   elevator_down   18:43:10  18:43:40\n",
      "6   elevator_down   18:44:50  18:45:15\n",
      "7   elevator_down   18:46:10  18:46:45\n",
      "8   elevator_down   18:47:40  18:48:30\n",
      "9   elevator_down   18:49:50  18:50:05\n",
      "10        dancing   19:01:30  19:04:30\n",
      "11       using_pc   18:55:30  18:58:00\n",
      "12     talk_phone   18:36:00  18:39:00\n",
      "13    elevator_up   18:42:25  18:43:00\n",
      "14    elevator_up   18:43:55  18:44:40\n",
      "15    elevator_up   18:45:25  18:46:00\n",
      "16    elevator_up   18:47:00  18:47:30\n",
      "17    elevator_up   18:49:10  18:49:40\n",
      "18        reading   18:52:00  18:55:00\n",
      "19     video_game   18:58:00  19:01:00\n"
     ]
    }
   ],
   "source": [
    "labels = pd.read_csv('participant2_session1.csv');\n",
    "labels['start_time'] = pd.to_datetime(labels['start_time'])\n",
    "labels['end_time'] = pd.to_datetime(labels['end_time'])\n",
    "\n",
    "labels.sort_values(by=['start_time'])\n",
    "\n",
    "labels['start_time']=labels['start_time']\n",
    "labels['start_time'] = [d.time() for d in labels['start_time']]\n",
    "labels['end_time']=labels['end_time']\n",
    "labels['end_time'] = [d.time() for d in labels['end_time']]\n",
    "#\n",
    "print(labels)\n",
    "#pd.DatetimeIndex(labels['start_time']).time\n",
    "#print(labels);"
   ]
  },
  {
   "cell_type": "code",
   "execution_count": 9,
   "metadata": {},
   "outputs": [],
   "source": [
    "def partition(label,start_time,end_time,df):\n",
    "    mask = (data['time'] > start_time) & (data['time'] <= end_time);\n",
    "    df_sub = data.loc[mask];\n",
    "    #print(df_sub);\n",
    "    sLength = len(df_sub['time']);\n",
    "    df_sub['label']=label;\n",
    "    df_sub['participant']=participant;\n",
    "    df_sub['location']=location;\n",
    "    df_sub = df_sub.reset_index()\n",
    "    #df_sub['Timestamp']= df_sub['Timestamp']- df_sub['Timestamp'][0];\n",
    "    #print(df_sub);\n",
    "    return(df_sub);"
   ]
  },
  {
   "cell_type": "code",
   "execution_count": null,
   "metadata": {},
   "outputs": [
    {
     "name": "stdout",
     "output_type": "stream",
     "text": [
      "0\n"
     ]
    },
    {
     "name": "stderr",
     "output_type": "stream",
     "text": [
      "/home/grads/d/doddapanenipc/anaconda3/lib/python3.7/site-packages/ipykernel_launcher.py:6: SettingWithCopyWarning: \n",
      "A value is trying to be set on a copy of a slice from a DataFrame.\n",
      "Try using .loc[row_indexer,col_indexer] = value instead\n",
      "\n",
      "See the caveats in the documentation: http://pandas.pydata.org/pandas-docs/stable/indexing.html#indexing-view-versus-copy\n",
      "  \n",
      "/home/grads/d/doddapanenipc/anaconda3/lib/python3.7/site-packages/ipykernel_launcher.py:7: SettingWithCopyWarning: \n",
      "A value is trying to be set on a copy of a slice from a DataFrame.\n",
      "Try using .loc[row_indexer,col_indexer] = value instead\n",
      "\n",
      "See the caveats in the documentation: http://pandas.pydata.org/pandas-docs/stable/indexing.html#indexing-view-versus-copy\n",
      "  import sys\n",
      "/home/grads/d/doddapanenipc/anaconda3/lib/python3.7/site-packages/ipykernel_launcher.py:8: SettingWithCopyWarning: \n",
      "A value is trying to be set on a copy of a slice from a DataFrame.\n",
      "Try using .loc[row_indexer,col_indexer] = value instead\n",
      "\n",
      "See the caveats in the documentation: http://pandas.pydata.org/pandas-docs/stable/indexing.html#indexing-view-versus-copy\n",
      "  \n"
     ]
    },
    {
     "name": "stdout",
     "output_type": "stream",
     "text": [
      "p1_eating0.csv\n",
      "1\n",
      "p1_watch_tv1.csv\n",
      "2\n",
      "p1_sleeping2.csv\n",
      "3\n",
      "p1_writing3.csv\n",
      "4\n",
      "p1_cooking4.csv\n"
     ]
    }
   ],
   "source": [
    "for x in range(0,len(labels)):\n",
    "#for x in range(0,1):\n",
    "    print(x)\n",
    "    tofile = partition(labels['context'][x],labels['start_time'][x],labels['end_time'][x],data);\n",
    "    filename = 'p1_'+labels['context'][x]+str(x)+'.csv';\n",
    "    print(filename);\n",
    "    tofile.to_csv(filename)"
   ]
  },
  {
   "cell_type": "code",
   "execution_count": null,
   "metadata": {},
   "outputs": [],
   "source": [
    "print(data)"
   ]
  },
  {
   "cell_type": "code",
   "execution_count": null,
   "metadata": {},
   "outputs": [],
   "source": [
    "len(labels)"
   ]
  },
  {
   "cell_type": "code",
   "execution_count": null,
   "metadata": {},
   "outputs": [],
   "source": [
    "print(data);"
   ]
  },
  {
   "cell_type": "code",
   "execution_count": 15,
   "metadata": {},
   "outputs": [
    {
     "data": {
      "text/plain": [
       "datetime.time(22, 27, 55)"
      ]
     },
     "execution_count": 15,
     "metadata": {},
     "output_type": "execute_result"
    }
   ],
   "source": [
    "labels['start_time'][4]"
   ]
  },
  {
   "cell_type": "code",
   "execution_count": null,
   "metadata": {},
   "outputs": [],
   "source": []
  }
 ],
 "metadata": {
  "kernelspec": {
   "display_name": "Python 3",
   "language": "python",
   "name": "python3"
  },
  "language_info": {
   "codemirror_mode": {
    "name": "ipython",
    "version": 3
   },
   "file_extension": ".py",
   "mimetype": "text/x-python",
   "name": "python",
   "nbconvert_exporter": "python",
   "pygments_lexer": "ipython3",
   "version": "3.7.0"
  }
 },
 "nbformat": 4,
 "nbformat_minor": 2
}
