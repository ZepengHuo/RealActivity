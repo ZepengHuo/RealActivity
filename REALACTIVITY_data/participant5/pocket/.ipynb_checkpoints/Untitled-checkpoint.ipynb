{
 "cells": [
  {
   "cell_type": "code",
   "execution_count": 1,
   "metadata": {},
   "outputs": [],
   "source": [
    "import csv\n",
    "import pandas as pd\n",
    "import datetime;\n",
    "import time;"
   ]
  },
  {
   "cell_type": "code",
   "execution_count": 2,
   "metadata": {},
   "outputs": [],
   "source": [
    "from datetime import datetime"
   ]
  },
  {
   "cell_type": "code",
   "execution_count": 3,
   "metadata": {},
   "outputs": [
    {
     "name": "stderr",
     "output_type": "stream",
     "text": [
      "/home/grads/d/doddapanenipc/anaconda3/lib/python3.7/site-packages/IPython/core/interactiveshell.py:2785: DtypeWarning: Columns (2,4,8,21,24,26) have mixed types. Specify dtype option on import or set low_memory=False.\n",
      "  interactivity=interactivity, compiler=compiler, result=result)\n"
     ]
    }
   ],
   "source": [
    "data = pd.read_csv('session2.csv');"
   ]
  },
  {
   "cell_type": "code",
   "execution_count": 4,
   "metadata": {},
   "outputs": [],
   "source": [
    "data['Timestamp'] = pd.to_datetime(data['Timestamp'])\n",
    "data['time'] = [d.time() for d in data['Timestamp']]\n",
    "#data['time'] = pd.to_datetime(data['time']);"
   ]
  },
  {
   "cell_type": "code",
   "execution_count": 5,
   "metadata": {},
   "outputs": [],
   "source": [
    "participant = 'p5';\n",
    "location = 'pocket';"
   ]
  },
  {
   "cell_type": "code",
   "execution_count": 6,
   "metadata": {},
   "outputs": [
    {
     "name": "stdout",
     "output_type": "stream",
     "text": [
      "             context start_time  end_time\n",
      "0      sitting_chair   21:21:55  21:25:00\n",
      "1            jumping   21:33:00  21:33:10\n",
      "2            jumping   21:33:30  21:33:40\n",
      "3            jumping   21:34:00  21:34:10\n",
      "4            jumping   21:34:30  21:34:40\n",
      "5            jumping   21:35:00  21:35:10\n",
      "6           standing   21:25:30  21:28:30\n",
      "7            walking   21:29:00  21:32:00\n",
      "8      sitting_floor   21:36:00  21:39:00\n",
      "9   walk_oneshoe_off   21:40:00  21:43:00\n",
      "10         stairs_up   21:45:00  21:46:35\n",
      "11         stairs_up   21:49:30  21:51:35\n",
      "12       stairs_down   21:47:10  21:49:10\n",
      "13       stairs_down   21:51:50  21:53:10\n",
      "14        lying_down   21:55:00  21:58:00\n",
      "15          sleeping   22:07:00  22:10:00\n",
      "16           writing   22:20:00  22:23:00\n",
      "17     elevator_down   22:37:25  22:37:55\n",
      "18     elevator_down   22:38:00  22:38:25\n",
      "19     elevator_down   22:40:30  22:41:20\n",
      "20     elevator_down   22:41:20  22:41:45\n",
      "21     elevator_down   22:42:40  22:42:55\n",
      "22          using_pc   22:24:00  22:27:00\n",
      "23        talk_phone   22:31:30  22:34:30\n",
      "24       elevator_up   22:36:40  22:37:15\n",
      "25       elevator_up   22:38:05  22:38:45\n",
      "26       elevator_up   22:39:35  22:40:00\n",
      "27       elevator_up   22:40:40  22:41:10\n",
      "28       elevator_up   22:42:00  22:42:20\n",
      "29           reading   22:27:30  22:30:30\n",
      "30    hand_to_pocket   22:12:45  22:12:55\n",
      "31    hand_to_pocket   22:13:05  22:13:05\n",
      "32    hand_to_pocket   22:13:25  22:13:35\n",
      "33    hand_to_pocket   22:13:45  22:13:55\n",
      "34    hand_to_pocket   22:14:05  22:14:15\n",
      "35    hand_to_pocket   22:14:25  22:14:35\n",
      "36    hand_to_pocket   22:14:45  22:14:55\n",
      "37    hand_to_pocket   22:21:05  22:21:15\n",
      "38    hand_to_pocket   22:21:25  22:21:35\n",
      "39    hand_to_pocket   22:21:45  22:21:55\n",
      "40    hand_to_pocket   22:22:05  22:22:15\n",
      "41    hand_to_pocket   22:22:25  22:22:35\n",
      "42    hand_to_pocket   22:22:45  22:22:55\n",
      "43    hand_to_pocket   22:17:05  22:17:15\n",
      "44    hand_to_pocket   22:17:25  22:17:35\n",
      "45    pocket_to_hand   22:12:55  22:13:05\n",
      "46    pocket_to_hand   22:13:15  22:13:25\n",
      "47    pocket_to_hand   22:13:35  22:13:45\n",
      "48    pocket_to_hand   22:13:55  22:13:55\n",
      "49    pocket_to_hand   22:14:15  22:14:25\n",
      "50    pocket_to_hand   22:14:35  22:14:45\n"
     ]
    }
   ],
   "source": [
    "labels = pd.read_csv('session2_ts.csv');\n",
    "labels['start_time'] = pd.to_datetime(labels['start_time'])\n",
    "labels['end_time'] = pd.to_datetime(labels['end_time'])\n",
    "\n",
    "labels.sort_values(by=['start_time'])\n",
    "\n",
    "labels['start_time']=labels['start_time']\n",
    "labels['start_time'] = [d.time() for d in labels['start_time']]\n",
    "labels['end_time']=labels['end_time']\n",
    "labels['end_time'] = [d.time() for d in labels['end_time']]\n",
    "#\n",
    "print(labels)\n",
    "#pd.DatetimeIndex(labels['start_time']).time\n",
    "#print(labels);"
   ]
  },
  {
   "cell_type": "code",
   "execution_count": 7,
   "metadata": {},
   "outputs": [],
   "source": [
    "def partition(label,start_time,end_time,df):\n",
    "    mask = (data['time'] > start_time) & (data['time'] <= end_time);\n",
    "    df_sub = data.loc[mask];\n",
    "    #print(df_sub);\n",
    "    sLength = len(df_sub['time']);\n",
    "    df_sub['label']=label;\n",
    "    df_sub['participant']=participant;\n",
    "    df_sub['location']=location;\n",
    "    df_sub = df_sub.reset_index()\n",
    "    #df_sub['Timestamp']= df_sub['Timestamp']- df_sub['Timestamp'][0];\n",
    "    #print(df_sub);\n",
    "    return(df_sub);"
   ]
  },
  {
   "cell_type": "code",
   "execution_count": null,
   "metadata": {},
   "outputs": [
    {
     "name": "stdout",
     "output_type": "stream",
     "text": [
      "0\n"
     ]
    },
    {
     "name": "stderr",
     "output_type": "stream",
     "text": [
      "/home/grads/d/doddapanenipc/anaconda3/lib/python3.7/site-packages/ipykernel_launcher.py:6: SettingWithCopyWarning: \n",
      "A value is trying to be set on a copy of a slice from a DataFrame.\n",
      "Try using .loc[row_indexer,col_indexer] = value instead\n",
      "\n",
      "See the caveats in the documentation: http://pandas.pydata.org/pandas-docs/stable/indexing.html#indexing-view-versus-copy\n",
      "  \n",
      "/home/grads/d/doddapanenipc/anaconda3/lib/python3.7/site-packages/ipykernel_launcher.py:7: SettingWithCopyWarning: \n",
      "A value is trying to be set on a copy of a slice from a DataFrame.\n",
      "Try using .loc[row_indexer,col_indexer] = value instead\n",
      "\n",
      "See the caveats in the documentation: http://pandas.pydata.org/pandas-docs/stable/indexing.html#indexing-view-versus-copy\n",
      "  import sys\n",
      "/home/grads/d/doddapanenipc/anaconda3/lib/python3.7/site-packages/ipykernel_launcher.py:8: SettingWithCopyWarning: \n",
      "A value is trying to be set on a copy of a slice from a DataFrame.\n",
      "Try using .loc[row_indexer,col_indexer] = value instead\n",
      "\n",
      "See the caveats in the documentation: http://pandas.pydata.org/pandas-docs/stable/indexing.html#indexing-view-versus-copy\n",
      "  \n"
     ]
    },
    {
     "name": "stdout",
     "output_type": "stream",
     "text": [
      "p5_sitting_chair0.csv\n"
     ]
    }
   ],
   "source": [
    "for x in range(0,len(labels)):\n",
    "#for x in range(0,1):\n",
    "    print(x)\n",
    "    tofile = partition(labels['context'][x],labels['start_time'][x],labels['end_time'][x],data);\n",
    "    filename = 'p5_'+labels['context'][x]+str(x)+'.csv';\n",
    "    print(filename);\n",
    "    tofile.to_csv(filename)"
   ]
  },
  {
   "cell_type": "code",
   "execution_count": null,
   "metadata": {},
   "outputs": [],
   "source": [
    "print(data)"
   ]
  },
  {
   "cell_type": "code",
   "execution_count": null,
   "metadata": {},
   "outputs": [],
   "source": [
    "len(labels)"
   ]
  },
  {
   "cell_type": "code",
   "execution_count": null,
   "metadata": {},
   "outputs": [],
   "source": [
    "print(data);"
   ]
  },
  {
   "cell_type": "code",
   "execution_count": null,
   "metadata": {},
   "outputs": [],
   "source": [
    "labels['start_time'][4]"
   ]
  },
  {
   "cell_type": "code",
   "execution_count": null,
   "metadata": {},
   "outputs": [],
   "source": []
  }
 ],
 "metadata": {
  "kernelspec": {
   "display_name": "Python 3",
   "language": "python",
   "name": "python3"
  },
  "language_info": {
   "codemirror_mode": {
    "name": "ipython",
    "version": 3
   },
   "file_extension": ".py",
   "mimetype": "text/x-python",
   "name": "python",
   "nbconvert_exporter": "python",
   "pygments_lexer": "ipython3",
   "version": "3.7.0"
  }
 },
 "nbformat": 4,
 "nbformat_minor": 2
}
