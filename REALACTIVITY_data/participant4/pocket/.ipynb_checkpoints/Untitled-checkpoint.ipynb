{
 "cells": [
  {
   "cell_type": "code",
   "execution_count": 2,
   "metadata": {},
   "outputs": [],
   "source": [
    "import csv\n",
    "import pandas as pd\n",
    "import datetime;\n",
    "import time;"
   ]
  },
  {
   "cell_type": "code",
   "execution_count": 3,
   "metadata": {},
   "outputs": [],
   "source": [
    "from datetime import datetime"
   ]
  },
  {
   "cell_type": "code",
   "execution_count": 4,
   "metadata": {},
   "outputs": [],
   "source": [
    "data = pd.read_csv('session1.csv');"
   ]
  },
  {
   "cell_type": "code",
   "execution_count": 5,
   "metadata": {},
   "outputs": [],
   "source": [
    "data['Timestamp'] = pd.to_datetime(data['Timestamp'])\n",
    "data['time'] = [d.time() for d in data['Timestamp']]\n",
    "#data['time'] = pd.to_datetime(data['time']);"
   ]
  },
  {
   "cell_type": "code",
   "execution_count": 6,
   "metadata": {},
   "outputs": [],
   "source": [
    "participant = 'p4';\n",
    "location = 'pocket';"
   ]
  },
  {
   "cell_type": "code",
   "execution_count": 8,
   "metadata": {},
   "outputs": [
    {
     "name": "stdout",
     "output_type": "stream",
     "text": [
      "          context start_time  end_time\n",
      "0          eating   19:05:00  19:07:30\n",
      "1        watch_tv   18:19:00  18:22:00\n",
      "2        sleeping   18:23:00  18:26:00\n",
      "3         writing   18:28:45  18:32:00\n",
      "4         cooking   18:32:30  18:35:00\n",
      "5   elevator_down   18:43:10  18:43:40\n",
      "6   elevator_down   18:44:50  18:45:15\n",
      "7   elevator_down   18:46:10  18:46:45\n",
      "8   elevator_down   18:47:40  18:48:30\n",
      "9   elevator_down   18:49:50  18:50:05\n",
      "10        dancing   19:01:30  19:04:30\n",
      "11       using_pc   18:55:30  18:58:00\n",
      "12     talk_phone   18:36:00  18:39:00\n",
      "13    elevator_up   18:42:25  18:43:00\n",
      "14    elevator_up   18:43:55  18:44:40\n",
      "15    elevator_up   18:45:25  18:46:00\n",
      "16    elevator_up   18:47:00  18:47:30\n",
      "17    elevator_up   18:49:10  18:49:40\n",
      "18        reading   18:52:00  18:55:00\n",
      "19     video_game   18:58:00  19:01:00\n"
     ]
    }
   ],
   "source": [
    "labels = pd.read_csv('session1_ts.csv');\n",
    "labels['start_time'] = pd.to_datetime(labels['start_time'])\n",
    "labels['end_time'] = pd.to_datetime(labels['end_time'])\n",
    "\n",
    "labels.sort_values(by=['start_time'])\n",
    "\n",
    "labels['start_time']=labels['start_time']\n",
    "labels['start_time'] = [d.time() for d in labels['start_time']]\n",
    "labels['end_time']=labels['end_time']\n",
    "labels['end_time'] = [d.time() for d in labels['end_time']]\n",
    "#\n",
    "print(labels)\n",
    "#pd.DatetimeIndex(labels['start_time']).time\n",
    "#print(labels);"
   ]
  },
  {
   "cell_type": "code",
   "execution_count": 9,
   "metadata": {},
   "outputs": [],
   "source": [
    "def partition(label,start_time,end_time,df):\n",
    "    mask = (data['time'] > start_time) & (data['time'] <= end_time);\n",
    "    df_sub = data.loc[mask];\n",
    "    #print(df_sub);\n",
    "    sLength = len(df_sub['time']);\n",
    "    df_sub['label']=label;\n",
    "    df_sub['participant']=participant;\n",
    "    df_sub['location']=location;\n",
    "    df_sub = df_sub.reset_index()\n",
    "    #df_sub['Timestamp']= df_sub['Timestamp']- df_sub['Timestamp'][0];\n",
    "    #print(df_sub);\n",
    "    return(df_sub);"
   ]
  },
  {
   "cell_type": "code",
   "execution_count": 10,
   "metadata": {},
   "outputs": [
    {
     "name": "stdout",
     "output_type": "stream",
     "text": [
      "0\n",
      "p1_eating0.csv\n",
      "1\n",
      "p1_watch_tv1.csv\n",
      "2\n",
      "p1_sleeping2.csv\n",
      "3\n",
      "p1_writing3.csv\n",
      "4\n",
      "p1_cooking4.csv\n",
      "5\n",
      "p1_elevator_down5.csv\n",
      "6\n",
      "p1_elevator_down6.csv\n",
      "7\n",
      "p1_elevator_down7.csv\n",
      "8\n",
      "p1_elevator_down8.csv\n",
      "9\n",
      "p1_elevator_down9.csv\n",
      "10\n",
      "p1_dancing10.csv\n",
      "11\n",
      "p1_using_pc11.csv\n",
      "12\n",
      "p1_talk_phone12.csv\n",
      "13\n",
      "p1_elevator_up13.csv\n",
      "14\n",
      "p1_elevator_up14.csv\n",
      "15\n",
      "p1_elevator_up15.csv\n",
      "16\n",
      "p1_elevator_up16.csv\n",
      "17\n",
      "p1_elevator_up17.csv\n",
      "18\n",
      "p1_reading18.csv\n",
      "19\n",
      "p1_video_game19.csv\n"
     ]
    }
   ],
   "source": [
    "for x in range(0,len(labels)):\n",
    "#for x in range(0,1):\n",
    "    print(x)\n",
    "    tofile = partition(labels['context'][x],labels['start_time'][x],labels['end_time'][x],data);\n",
    "    filename = 'p1_'+labels['context'][x]+str(x)+'.csv';\n",
    "    print(filename);\n",
    "    tofile.to_csv(filename)"
   ]
  },
  {
   "cell_type": "code",
   "execution_count": 11,
   "metadata": {},
   "outputs": [
    {
     "name": "stdout",
     "output_type": "stream",
     "text": [
      "Empty DataFrame\n",
      "Columns: [index, $type, AccessPointBSSID, Accuracy, Activity, Altitude, Brightness, BuildId, Confidence, Decibels, DeviceId, DeviceManufacturer, DeviceModel, Distance, Heading, Id, KPH, Latitude, Level, Longitude, MaxDistance, On, OperatingSystem, ParticipantId, Phase, ProtocolId, State, TaggedEventId, TaggedEventTags, Timestamp, X, Y, Z, date, time]\n",
      "Index: []\n",
      "\n",
      "[0 rows x 35 columns]\n"
     ]
    }
   ],
   "source": [
    "print(data)"
   ]
  },
  {
   "cell_type": "code",
   "execution_count": 12,
   "metadata": {},
   "outputs": [
    {
     "data": {
      "text/plain": [
       "20"
      ]
     },
     "execution_count": 12,
     "metadata": {},
     "output_type": "execute_result"
    }
   ],
   "source": [
    "len(labels)"
   ]
  },
  {
   "cell_type": "code",
   "execution_count": 13,
   "metadata": {},
   "outputs": [
    {
     "name": "stdout",
     "output_type": "stream",
     "text": [
      "Empty DataFrame\n",
      "Columns: [index, $type, AccessPointBSSID, Accuracy, Activity, Altitude, Brightness, BuildId, Confidence, Decibels, DeviceId, DeviceManufacturer, DeviceModel, Distance, Heading, Id, KPH, Latitude, Level, Longitude, MaxDistance, On, OperatingSystem, ParticipantId, Phase, ProtocolId, State, TaggedEventId, TaggedEventTags, Timestamp, X, Y, Z, date, time]\n",
      "Index: []\n",
      "\n",
      "[0 rows x 35 columns]\n"
     ]
    }
   ],
   "source": [
    "print(data);"
   ]
  },
  {
   "cell_type": "code",
   "execution_count": 15,
   "metadata": {},
   "outputs": [
    {
     "data": {
      "text/plain": [
       "datetime.time(22, 27, 55)"
      ]
     },
     "execution_count": 15,
     "metadata": {},
     "output_type": "execute_result"
    }
   ],
   "source": [
    "labels['start_time'][4]"
   ]
  },
  {
   "cell_type": "code",
   "execution_count": null,
   "metadata": {},
   "outputs": [],
   "source": []
  }
 ],
 "metadata": {
  "kernelspec": {
   "display_name": "Python 3",
   "language": "python",
   "name": "python3"
  },
  "language_info": {
   "codemirror_mode": {
    "name": "ipython",
    "version": 3
   },
   "file_extension": ".py",
   "mimetype": "text/x-python",
   "name": "python",
   "nbconvert_exporter": "python",
   "pygments_lexer": "ipython3",
   "version": "3.7.0"
  }
 },
 "nbformat": 4,
 "nbformat_minor": 2
}
